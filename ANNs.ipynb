{
 "cells": [
  {
   "cell_type": "code",
   "execution_count": 60,
   "metadata": {},
   "outputs": [],
   "source": [
    "import pandas as pd\n",
    "df = pd.read_csv(\"Dataset_timeseries.csv\")\n"
   ]
  },
  {
   "cell_type": "code",
   "execution_count": 61,
   "metadata": {},
   "outputs": [],
   "source": [
    "from sklearn.model_selection import train_test_split\n",
    "from sklearn.preprocessing import StandardScaler\n",
    "from sklearn.metrics import classification_report, accuracy_score, confusion_matrix\n",
    "import tensorflow as tf\n",
    "from tensorflow.keras.models import Sequential\n",
    "from tensorflow.keras.layers import Dense"
   ]
  },
  {
   "cell_type": "code",
   "execution_count": 62,
   "metadata": {},
   "outputs": [],
   "source": [
    "df = df.drop(columns=['Time (s)'])\n",
    "X = df[['SOPAS']].values  # Features\n",
    "y = df['Number'].values   # Target\n",
    "X_train, X_test, y_train, y_test = train_test_split(X, y, test_size=0.2, random_state=42)\n",
    "scaler = StandardScaler()\n",
    "X_train = scaler.fit_transform(X_train)\n",
    "X_test = scaler.transform(X_test)"
   ]
  },
  {
   "cell_type": "code",
   "execution_count": 63,
   "metadata": {},
   "outputs": [
    {
     "name": "stdout",
     "output_type": "stream",
     "text": [
      "Model: \"sequential_7\"\n",
      "_________________________________________________________________\n",
      " Layer (type)                Output Shape              Param #   \n",
      "=================================================================\n",
      " dense_28 (Dense)            (None, 128)               256       \n",
      "                                                                 \n",
      " dense_29 (Dense)            (None, 64)                8256      \n",
      "                                                                 \n",
      " dense_30 (Dense)            (None, 32)                2080      \n",
      "                                                                 \n",
      " dense_31 (Dense)            (None, 16)                528       \n",
      "                                                                 \n",
      " dense_32 (Dense)            (None, 8)                 136       \n",
      "                                                                 \n",
      " dense_33 (Dense)            (None, 4)                 36        \n",
      "                                                                 \n",
      "=================================================================\n",
      "Total params: 11292 (44.11 KB)\n",
      "Trainable params: 11292 (44.11 KB)\n",
      "Non-trainable params: 0 (0.00 Byte)\n",
      "_________________________________________________________________\n"
     ]
    }
   ],
   "source": [
    "# Define the neural network model\n",
    "model = Sequential([\n",
    "    Dense(128, activation='relu', input_shape=(X_train.shape[1],)),\n",
    "    Dense(64, activation='relu'),\n",
    "    Dense(32, activation='relu'),\n",
    "    Dense(16, activation='relu'),\n",
    "    Dense(8, activation='relu'),\n",
    "    Dense(4, activation='softmax')  # 4 output classes (0, 1, 2, 3)\n",
    "])\n",
    "\n",
    "\n",
    "# Compile the model\n",
    "model.compile(optimizer='adam', loss='sparse_categorical_crossentropy', metrics=['accuracy'])\n",
    "model.summary()"
   ]
  },
  {
   "cell_type": "code",
   "execution_count": 64,
   "metadata": {},
   "outputs": [
    {
     "name": "stdout",
     "output_type": "stream",
     "text": [
      "Epoch 1/10\n",
      "4606/4606 [==============================] - 23s 5ms/step - loss: 2.0924 - accuracy: 0.4899 - val_loss: 1.0479 - val_accuracy: 0.5032\n",
      "Epoch 2/10\n",
      "4606/4606 [==============================] - 23s 5ms/step - loss: 2.0760 - accuracy: 0.4991 - val_loss: 1.0374 - val_accuracy: 0.5171\n",
      "Epoch 3/10\n",
      "4606/4606 [==============================] - 21s 5ms/step - loss: 2.0736 - accuracy: 0.4974 - val_loss: 1.0752 - val_accuracy: 0.4920\n",
      "Epoch 4/10\n",
      "4606/4606 [==============================] - 16s 4ms/step - loss: 2.0721 - accuracy: 0.4974 - val_loss: 1.0606 - val_accuracy: 0.4991\n",
      "Epoch 5/10\n",
      "4606/4606 [==============================] - 16s 3ms/step - loss: 2.0714 - accuracy: 0.4998 - val_loss: 1.0278 - val_accuracy: 0.5113\n",
      "Epoch 6/10\n",
      "4606/4606 [==============================] - 16s 3ms/step - loss: 2.0705 - accuracy: 0.4976 - val_loss: 1.0551 - val_accuracy: 0.4906\n",
      "Epoch 7/10\n",
      "4606/4606 [==============================] - 16s 4ms/step - loss: 2.0696 - accuracy: 0.5002 - val_loss: 1.0714 - val_accuracy: 0.4874\n",
      "Epoch 8/10\n",
      "4606/4606 [==============================] - 17s 4ms/step - loss: 2.0690 - accuracy: 0.4992 - val_loss: 1.0504 - val_accuracy: 0.5056\n",
      "Epoch 9/10\n",
      "4606/4606 [==============================] - 16s 4ms/step - loss: 2.0699 - accuracy: 0.5004 - val_loss: 1.0627 - val_accuracy: 0.4967\n",
      "Epoch 10/10\n",
      "4606/4606 [==============================] - 16s 4ms/step - loss: 2.0689 - accuracy: 0.4982 - val_loss: 1.0435 - val_accuracy: 0.5013\n"
     ]
    },
    {
     "data": {
      "text/plain": [
       "<keras.src.callbacks.History at 0x1a0e36b3b80>"
      ]
     },
     "execution_count": 64,
     "metadata": {},
     "output_type": "execute_result"
    }
   ],
   "source": [
    "# Example: Class weighting\n",
    "class_weights = {0: 1.0, 1: 4.0, 2: 3.0, 3: 2.0}  # Higher weight for the minority class\n",
    "model.fit(X_train, y_train, epochs=10, batch_size=32, validation_split=0.1, class_weight=class_weights)\n"
   ]
  },
  {
   "cell_type": "code",
   "execution_count": 65,
   "metadata": {},
   "outputs": [
    {
     "name": "stdout",
     "output_type": "stream",
     "text": [
      "1280/1280 [==============================] - 3s 2ms/step\n"
     ]
    }
   ],
   "source": [
    "y_pred = model.predict(X_test)\n",
    "y_pred_classes = tf.argmax(y_pred, axis=1).numpy()"
   ]
  },
  {
   "cell_type": "code",
   "execution_count": 66,
   "metadata": {},
   "outputs": [
    {
     "name": "stdout",
     "output_type": "stream",
     "text": [
      "Accuracy: 0.5010870361775411\n",
      "              precision    recall  f1-score   support\n",
      "\n",
      "           0       0.82      0.42      0.56     16352\n",
      "           1       0.28      0.57      0.37      4066\n",
      "           2       0.27      0.07      0.11      5422\n",
      "           3       0.48      0.72      0.58     15097\n",
      "\n",
      "    accuracy                           0.50     40937\n",
      "   macro avg       0.46      0.45      0.40     40937\n",
      "weighted avg       0.57      0.50      0.49     40937\n",
      "\n"
     ]
    }
   ],
   "source": [
    "print(f\"Accuracy: {accuracy_score(y_test, y_pred_classes)}\")\n",
    "print(classification_report(y_test, y_pred_classes))"
   ]
  },
  {
   "cell_type": "code",
   "execution_count": 67,
   "metadata": {},
   "outputs": [
    {
     "data": {
      "image/png": "[encoded data removed]",
      "text/plain": [
       "<Figure size 1000x700 with 2 Axes>"
      ]
     },
     "metadata": {},
     "output_type": "display_data"
    }
   ],
   "source": [
    "import matplotlib.pyplot as plt\n",
    "import seaborn as sns\n",
    "conf_matrix = confusion_matrix(y_test, y_pred_classes)\n",
    "plt.figure(figsize=(10, 7))\n",
    "sns.heatmap(conf_matrix, annot=True, fmt='d', cmap='Blues', xticklabels=[0, 1, 2, 3], yticklabels=[0, 1, 2, 3])\n",
    "plt.xlabel('Predicted')\n",
    "plt.ylabel('Actual')\n",
    "plt.title('Confusion Matrix')\n",
    "plt.show()"
   ]
  }
 ],
 "metadata": {
  "kernelspec": {
   "display_name": "Python 3",
   "language": "python",
   "name": "python3"
  },
  "language_info": {
   "codemirror_mode": {
    "name": "ipython",
    "version": 3
   },
   "file_extension": ".py",
   "mimetype": "text/x-python",
   "name": "python",
   "nbconvert_exporter": "python",
   "pygments_lexer": "ipython3",
   "version": "3.10.0"
  }
 },
 "nbformat": 4,
 "nbformat_minor": 2
}
