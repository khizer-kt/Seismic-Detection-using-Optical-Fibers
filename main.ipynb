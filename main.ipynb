{
  "nbformat": 4,
  "nbformat_minor": 0,
  "metadata": {
    "colab": {
      "provenance": [],
      "gpuType": "T4"
    },
    "kernelspec": {
      "name": "python3",
      "display_name": "Python 3"
    },
    "language_info": {
      "name": "python"
    },
    "accelerator": "GPU"
  },
  "cells": [
    {
      "cell_type": "code",
      "source": [
        "import numpy as np\n",
        "import pandas as pd\n",
        "from sklearn.preprocessing import MinMaxScaler\n",
        "from sklearn.model_selection import train_test_split\n",
        "\n",
        "df = pd.read_csv('Dataset_timeseries.csv')\n",
        "scaler = MinMaxScaler()\n",
        "df['SOPAS'] = scaler.fit_transform(df[['SOPAS']])\n",
        "df['Time (s)'] = scaler.fit_transform(df[['Time (s)']])\n",
        "\n",
        "X = df[['SOPAS', 'Time (s)']].values\n",
        "y = df['Number'].values\n",
        "\n",
        "def create_sequences(data, target, seq_length):\n",
        "    xs = []\n",
        "    ys = []\n",
        "    for i in range(len(data) - seq_length):\n",
        "        x = data[i:i + seq_length]\n",
        "        y = target[i + seq_length]\n",
        "        xs.append(x)\n",
        "        ys.append(y)\n",
        "    return np.array(xs), np.array(ys)\n",
        "\n",
        "seq_length = 5\n",
        "X_seq, y_seq = create_sequences(X, y, seq_length)\n",
        "X_seq = X_seq.reshape((X_seq.shape[0], X_seq.shape[1], X_seq.shape[2]))\n",
        "\n",
        "X_train, X_test, y_train, y_test = train_test_split(X_seq, y_seq, test_size=0.2, random_state=42)"
      ],
      "metadata": {
        "id": "LG5KlPMPfz0L"
      },
      "execution_count": 1,
      "outputs": []
    },
    {
      "cell_type": "code",
      "source": [
        "import tensorflow as tf\n",
        "from tensorflow.keras.models import Model\n",
        "from tensorflow.keras.layers import Input, LSTM, Dense, Attention\n",
        "\n",
        "num_features = X_seq.shape[2]\n",
        "input_layer = Input(shape=(seq_length, num_features))\n",
        "lstm_out = LSTM(50, return_sequences=True)(input_layer)\n",
        "attention = Attention()([lstm_out, lstm_out])\n",
        "lstm_out = LSTM(50)(attention)\n",
        "output_layer = Dense(1, activation='linear')(lstm_out)\n",
        "\n",
        "model = Model(inputs=input_layer, outputs=output_layer)\n",
        "model.compile(optimizer='adam', loss='mse')\n",
        "model.summary()"
      ],
      "metadata": {
        "colab": {
          "base_uri": "https://localhost:8080/"
        },
        "id": "cEWdq-Qmf78L",
        "outputId": "b3e87ab3-7f23-4e52-b9f9-ad4f9ed1799a"
      },
      "execution_count": 2,
      "outputs": [
        {
          "output_type": "stream",
          "name": "stdout",
          "text": [
            "Model: \"model\"\n",
            "__________________________________________________________________________________________________\n",
            " Layer (type)                Output Shape                 Param #   Connected to                  \n",
            "==================================================================================================\n",
            " input_1 (InputLayer)        [(None, 5, 2)]               0         []                            \n",
            "                                                                                                  \n",
            " lstm (LSTM)                 (None, 5, 50)                10600     ['input_1[0][0]']             \n",
            "                                                                                                  \n",
            " attention (Attention)       (None, 5, 50)                0         ['lstm[0][0]',                \n",
            "                                                                     'lstm[0][0]']                \n",
            "                                                                                                  \n",
            " lstm_1 (LSTM)               (None, 50)                   20200     ['attention[0][0]']           \n",
            "                                                                                                  \n",
            " dense (Dense)               (None, 1)                    51        ['lstm_1[0][0]']              \n",
            "                                                                                                  \n",
            "==================================================================================================\n",
            "Total params: 30851 (120.51 KB)\n",
            "Trainable params: 30851 (120.51 KB)\n",
            "Non-trainable params: 0 (0.00 Byte)\n",
            "__________________________________________________________________________________________________\n"
          ]
        }
      ]
    },
    {
      "cell_type": "code",
      "source": [
        "history = model.fit(X_train, y_train, epochs= 20, batch_size=16, validation_split=0.2)\n"
      ],
      "metadata": {
        "colab": {
          "base_uri": "https://localhost:8080/"
        },
        "id": "m13KFOb5gEOq",
        "outputId": "83558aac-b5cb-46db-f811-c4600c27ec8a"
      },
      "execution_count": null,
      "outputs": [
        {
          "output_type": "stream",
          "name": "stdout",
          "text": [
            "Epoch 1/20\n",
            "8188/8188 [==============================] - 56s 6ms/step - loss: 0.9477 - val_loss: 0.9028\n",
            "Epoch 2/20\n",
            "8188/8188 [==============================] - 51s 6ms/step - loss: 0.8125 - val_loss: 0.7967\n",
            "Epoch 3/20\n",
            "8188/8188 [==============================] - 56s 7ms/step - loss: 0.7736 - val_loss: 0.7657\n",
            "Epoch 4/20\n",
            "8188/8188 [==============================] - 55s 7ms/step - loss: 0.7599 - val_loss: 0.7379\n",
            "Epoch 5/20\n",
            "8188/8188 [==============================] - 52s 6ms/step - loss: 0.7529 - val_loss: 0.7590\n",
            "Epoch 6/20\n",
            "8188/8188 [==============================] - 51s 6ms/step - loss: 0.7444 - val_loss: 0.7590\n",
            "Epoch 7/20\n",
            "8188/8188 [==============================] - 51s 6ms/step - loss: 0.7397 - val_loss: 0.7337\n",
            "Epoch 8/20\n",
            "8188/8188 [==============================] - 52s 6ms/step - loss: 0.7353 - val_loss: 0.7358\n",
            "Epoch 9/20\n",
            "8188/8188 [==============================] - 51s 6ms/step - loss: 0.7313 - val_loss: 0.7334\n",
            "Epoch 10/20\n",
            "8188/8188 [==============================] - 51s 6ms/step - loss: 0.7276 - val_loss: 0.7329\n",
            "Epoch 11/20\n",
            "8182/8188 [============================>.] - ETA: 0s - loss: 0.7239"
          ]
        }
      ]
    },
    {
      "cell_type": "code",
      "source": [
        "y_pred = model.predict(X_test)\n",
        "\n",
        "from sklearn.metrics import mean_squared_error\n",
        "import math\n",
        "rmse = math.sqrt(mean_squared_error(y_test, y_pred))\n",
        "print(f'RMSE: {rmse}')"
      ],
      "metadata": {
        "id": "SuA1RKCQgC_C"
      },
      "execution_count": null,
      "outputs": []
    },
    {
      "cell_type": "code",
      "source": [
        "import matplotlib.pyplot as plt\n",
        "\n",
        "plt.plot(history.history['loss'])\n",
        "plt.plot(history.history['val_loss'])\n",
        "plt.title('Model loss')\n",
        "plt.xlabel('Epoch')\n",
        "plt.ylabel('Loss')\n",
        "plt.legend(['Train', 'Validation'], loc='upper left')\n",
        "plt.show()\n"
      ],
      "metadata": {
        "colab": {
          "base_uri": "https://localhost:8080/",
          "height": 219
        },
        "id": "8EB73MFEihrm",
        "outputId": "9c51faae-ee97-4fa7-9460-3f1b06407278"
      },
      "execution_count": 17,
      "outputs": [
        {
          "output_type": "error",
          "ename": "NameError",
          "evalue": "name 'history' is not defined",
          "traceback": [
            "\u001b[0;31m---------------------------------------------------------------------------\u001b[0m",
            "\u001b[0;31mNameError\u001b[0m                                 Traceback (most recent call last)",
            "\u001b[0;32m<ipython-input-17-c9e801aec1a4>\u001b[0m in \u001b[0;36m<cell line: 4>\u001b[0;34m()\u001b[0m\n\u001b[1;32m      2\u001b[0m \u001b[0;34m\u001b[0m\u001b[0m\n\u001b[1;32m      3\u001b[0m \u001b[0;31m# Plot training & validation loss values\u001b[0m\u001b[0;34m\u001b[0m\u001b[0;34m\u001b[0m\u001b[0m\n\u001b[0;32m----> 4\u001b[0;31m \u001b[0mplt\u001b[0m\u001b[0;34m.\u001b[0m\u001b[0mplot\u001b[0m\u001b[0;34m(\u001b[0m\u001b[0mhistory\u001b[0m\u001b[0;34m.\u001b[0m\u001b[0mhistory\u001b[0m\u001b[0;34m[\u001b[0m\u001b[0;34m'loss'\u001b[0m\u001b[0;34m]\u001b[0m\u001b[0;34m)\u001b[0m\u001b[0;34m\u001b[0m\u001b[0;34m\u001b[0m\u001b[0m\n\u001b[0m\u001b[1;32m      5\u001b[0m \u001b[0mplt\u001b[0m\u001b[0;34m.\u001b[0m\u001b[0mplot\u001b[0m\u001b[0;34m(\u001b[0m\u001b[0mhistory\u001b[0m\u001b[0;34m.\u001b[0m\u001b[0mhistory\u001b[0m\u001b[0;34m[\u001b[0m\u001b[0;34m'val_loss'\u001b[0m\u001b[0;34m]\u001b[0m\u001b[0;34m)\u001b[0m\u001b[0;34m\u001b[0m\u001b[0;34m\u001b[0m\u001b[0m\n\u001b[1;32m      6\u001b[0m \u001b[0mplt\u001b[0m\u001b[0;34m.\u001b[0m\u001b[0mtitle\u001b[0m\u001b[0;34m(\u001b[0m\u001b[0;34m'Model loss'\u001b[0m\u001b[0;34m)\u001b[0m\u001b[0;34m\u001b[0m\u001b[0;34m\u001b[0m\u001b[0m\n",
            "\u001b[0;31mNameError\u001b[0m: name 'history' is not defined"
          ]
        }
      ]
    }
  ]
}